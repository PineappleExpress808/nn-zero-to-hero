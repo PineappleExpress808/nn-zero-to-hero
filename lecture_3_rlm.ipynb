{
 "cells": [
  {
   "cell_type": "markdown",
   "id": "94e32ba6",
   "metadata": {},
   "source": [
    "## SUMMARY\n",
    "\n",
    "Initial `Makemore` langugae models used - \n",
    "* `Bigram statistics`\n",
    "* `MLP`\n",
    "\n",
    "But, botht took only took 1 char of prior context - \n",
    "* We can add `block_size` (e.g., =3) chars to predict the next\n",
    "\n",
    "We extend the NN w/ a few tricks -\n",
    "* `Lookup`: More chars as context\n",
    "* `Model capacity`: Embedding and channels \n",
    "* `Length of running`: Total steps\n",
    "* `Batch size`: Better gradient (faster convergence)\n",
    "* `LR schedule`: Tune step sizes (lower) as model gets better \n",
    "\n",
    "Note, with mini-batches -\n",
    "* The gradient quality is lower.\n",
    "* But, better to have an `approximate gradient and take many steps` ...\n",
    "* ... than an `exact gradient and take fewer steps`.\n",
    "\n",
    "Also, we simplify the loss using `cross_entropy` rather than NLL -\n",
    "\n",
    "* Before, we used softmax layer to compute probabilities from raw logits \n",
    "* Then we compute NLL loss from raw probabilities\n",
    "* `Cross entropy` loss just rolls these all into one step:\n",
    "* `loss_=F.cross_entropy(logits,Y[ix])`\n",
    "\n",
    "See:\n",
    "\n",
    "https://towardsdatascience.com/cross-entropy-negative-log-likelihood-and-all-that-jazz-47a95bd2e81#:~:text=Negative%20log%2Dlikelihood%20minimization%20is,up%20the%20correct%20log%20probabilities.%E2%80%9D"
   ]
  },
  {
   "cell_type": "markdown",
   "id": "6a31556f",
   "metadata": {},
   "source": [
    "Note: Our prior model was pretty bad!\n",
    "\n",
    "It only took 1 char of prior context.\n",
    "\n",
    "But, our table grows exponentially as we add more chars. \n",
    "\n",
    "Yet, our table grows exponentially if we extend the context: `27`, `27^2`, `27^3` prior combinations\n",
    "\n",
    "So, let's use an MLP to predict the next char (or token) in the sequence: \n",
    "\n",
    "* 17k words\n",
    "* Embed each in a 30d space \n",
    "* Train such that words with similar meanings end up in a similar place in the space\n",
    "\n",
    "Maximize the log-likelihood of the training data.\n",
    "\n",
    "Example: \n",
    "\n",
    "`\"A dog was running in a __\"`\n",
    " \n",
    "Embedding for `A` and `The` are interchangable.\n",
    "\n",
    "Or `dog` and `cat` are both animals. \n",
    "\n",
    "So, we can share information through embeddings."
   ]
  },
  {
   "cell_type": "markdown",
   "id": "53968866",
   "metadata": {},
   "source": [
    "Inputs: \n",
    "    \n",
    "* 3 previous worlds out of 17k word vocabulary\n",
    "* Each word looks up embedding in matrix `C` of length `30`\n",
    "* Hidden layer w/ `N` neurons, each fully connected to `30 * 3 = 90` input embedding\n",
    "* Final layer outputs `17k` logits followed by `Softmax` (normalize, sum to 1) \n",
    "* Gives probability distribution of next word in sequence"
   ]
  },
  {
   "cell_type": "code",
   "execution_count": 1,
   "id": "0b2c846f",
   "metadata": {},
   "outputs": [],
   "source": [
    "import torch\n",
    "import torch.nn.functional as F\n",
    "import matplotlib.pyplot as plt # for making figures\n",
    "%matplotlib inline"
   ]
  },
  {
   "cell_type": "code",
   "execution_count": 2,
   "id": "65ff66cb",
   "metadata": {},
   "outputs": [
    {
     "data": {
      "text/plain": [
       "['emma', 'olivia', 'ava', 'isabella', 'sophia', 'charlotte', 'mia', 'amelia']"
      ]
     },
     "execution_count": 2,
     "metadata": {},
     "output_type": "execute_result"
    }
   ],
   "source": [
    "# read in all the words\n",
    "words = open('names.txt', 'r').read().splitlines()\n",
    "words[:8]"
   ]
  },
  {
   "cell_type": "code",
   "execution_count": 3,
   "id": "58bdc64e",
   "metadata": {},
   "outputs": [
    {
     "data": {
      "text/plain": [
       "32033"
      ]
     },
     "execution_count": 3,
     "metadata": {},
     "output_type": "execute_result"
    }
   ],
   "source": [
    "len(words)"
   ]
  },
  {
   "cell_type": "code",
   "execution_count": 4,
   "id": "5ed73e33",
   "metadata": {},
   "outputs": [
    {
     "name": "stdout",
     "output_type": "stream",
     "text": [
      "{1: 'a', 2: 'b', 3: 'c', 4: 'd', 5: 'e', 6: 'f', 7: 'g', 8: 'h', 9: 'i', 10: 'j', 11: 'k', 12: 'l', 13: 'm', 14: 'n', 15: 'o', 16: 'p', 17: 'q', 18: 'r', 19: 's', 20: 't', 21: 'u', 22: 'v', 23: 'w', 24: 'x', 25: 'y', 26: 'z', 0: '.'}\n"
     ]
    }
   ],
   "source": [
    "# build the vocabulary of characters and mappings to/from integers\n",
    "chars = sorted(list(set(''.join(words))))\n",
    "stoi = {s:i+1 for i,s in enumerate(chars)}\n",
    "stoi['.'] = 0\n",
    "itos = {i:s for s,i in stoi.items()}\n",
    "print(itos)"
   ]
  },
  {
   "cell_type": "code",
   "execution_count": 5,
   "id": "b41bf353",
   "metadata": {},
   "outputs": [],
   "source": [
    "# build the dataset\n",
    "block_size = 3 # context length: how many characters do we take to predict the next one?\n",
    "X, Y = [], []\n",
    "for w in words:\n",
    "  \n",
    "  #print(w)\n",
    "  context = [0] * block_size\n",
    "  for ch in w + '.':\n",
    "    ix = stoi[ch]\n",
    "    X.append(context)\n",
    "    Y.append(ix)\n",
    "    #print(''.join(itos[i] for i in context), '--->', itos[ix])\n",
    "    context = context[1:] + [ix] # crop and append\n",
    "  \n",
    "X = torch.tensor(X)\n",
    "Y = torch.tensor(Y)"
   ]
  },
  {
   "cell_type": "code",
   "execution_count": 6,
   "id": "ed689032",
   "metadata": {
    "scrolled": true
   },
   "outputs": [
    {
     "name": "stdout",
     "output_type": "stream",
     "text": [
      "torch.Size([182625, 3]) torch.Size([182625])\n",
      "torch.Size([22655, 3]) torch.Size([22655])\n",
      "torch.Size([22866, 3]) torch.Size([22866])\n"
     ]
    }
   ],
   "source": [
    "# Context length: how many characters do we take to predict the next one?\n",
    "block_size = 3 \n",
    "\n",
    "def build_dataset(words):  \n",
    "  X, Y = [], []\n",
    "  for w in words:\n",
    "    #print(w)\n",
    "    context = [0] * block_size\n",
    "    # Iterate over all chars\n",
    "    for ch in w + '.':\n",
    "      ix = stoi[ch]\n",
    "      # Input: Rolling window of context before char \n",
    "      X.append(context)\n",
    "      # Target: Current char \n",
    "      Y.append(ix)\n",
    "      # print(''.join(itos[i] for i in context), '--->', itos[ix])\n",
    "      context = context[1:] + [ix] # crop and append\n",
    "\n",
    "  X = torch.tensor(X)\n",
    "  Y = torch.tensor(Y)\n",
    "  print(X.shape, Y.shape)\n",
    "  return X, Y\n",
    "\n",
    "import random\n",
    "random.seed(42)\n",
    "random.shuffle(words)\n",
    "n1 = int(0.8*len(words))\n",
    "n2 = int(0.9*len(words))\n",
    "\n",
    "Xtr, Ytr = build_dataset(words[:n1])\n",
    "Xdev, Ydev = build_dataset(words[n1:n2])\n",
    "Xte, Yte = build_dataset(words[n2:])"
   ]
  },
  {
   "cell_type": "code",
   "execution_count": 7,
   "id": "0b2e1de5",
   "metadata": {},
   "outputs": [
    {
     "data": {
      "text/plain": [
       "(torch.Size([228146, 3]), torch.int64, torch.Size([228146]), torch.int64)"
      ]
     },
     "execution_count": 7,
     "metadata": {},
     "output_type": "execute_result"
    }
   ],
   "source": [
    "X.shape, X.dtype, Y.shape, Y.dtype"
   ]
  },
  {
   "cell_type": "markdown",
   "id": "6b6c6368",
   "metadata": {},
   "source": [
    "So, from the `5 words` we have a dataset of:\n",
    "     \n",
    "* `32` examples\n",
    "* Each input is `3` ints\n",
    "* `Y` is 1 int\n",
    "\n",
    "We have 27 possible chars:\n",
    " \n",
    "* Let's embed them into a `2d` space\n",
    "* One hot data type is long (64-bit int)\n",
    "* Must cast a float to multiply \n",
    "\n",
    "Embed a single int `5`:"
   ]
  },
  {
   "cell_type": "code",
   "execution_count": 8,
   "id": "203d9f6c",
   "metadata": {},
   "outputs": [
    {
     "name": "stdout",
     "output_type": "stream",
     "text": [
      "tensor([ 0.5355, -1.5712])\n",
      "tensor([ 0.5355, -1.5712])\n"
     ]
    }
   ],
   "source": [
    "# Embedding matrix \n",
    "C = torch.randn(27,2)\n",
    "# Index\n",
    "print(C[5])\n",
    "print(F.one_hot(torch.tensor(5), num_classes=27).float() @ C)"
   ]
  },
  {
   "cell_type": "code",
   "execution_count": 24,
   "id": "bcf9635e",
   "metadata": {},
   "outputs": [],
   "source": [
    "# We can embed all training inputs simultanously\n",
    "emb = C[X]"
   ]
  },
  {
   "cell_type": "code",
   "execution_count": 25,
   "id": "dd9f14b2",
   "metadata": {},
   "outputs": [],
   "source": [
    "# 100 neurons fully connected to 3 inputs, each embedded to dim 2\n",
    "W1 = torch.randn(6,100)\n",
    "b1 = torch.randn(100)"
   ]
  },
  {
   "cell_type": "code",
   "execution_count": 26,
   "id": "a76f6ef4",
   "metadata": {},
   "outputs": [
    {
     "data": {
      "text/plain": [
       "torch.Size([27, 2])"
      ]
     },
     "execution_count": 26,
     "metadata": {},
     "output_type": "execute_result"
    }
   ],
   "source": [
    "C.shape"
   ]
  },
  {
   "cell_type": "code",
   "execution_count": 22,
   "id": "326fb892",
   "metadata": {},
   "outputs": [
    {
     "ename": "RuntimeError",
     "evalue": "mat1 and mat2 shapes cannot be multiplied (684438x2 and 228146x100)",
     "output_type": "error",
     "traceback": [
      "\u001b[0;31m---------------------------------------------------------------------------\u001b[0m",
      "\u001b[0;31mRuntimeError\u001b[0m                              Traceback (most recent call last)",
      "Input \u001b[0;32mIn [22]\u001b[0m, in \u001b[0;36m<cell line: 2>\u001b[0;34m()\u001b[0m\n\u001b[1;32m      1\u001b[0m \u001b[38;5;66;03m# Fails! \u001b[39;00m\n\u001b[0;32m----> 2\u001b[0m \u001b[43memb\u001b[49m\u001b[43m \u001b[49m\u001b[38;5;241;43m@\u001b[39;49m\u001b[43m \u001b[49m\u001b[43mW1\u001b[49m\n",
      "\u001b[0;31mRuntimeError\u001b[0m: mat1 and mat2 shapes cannot be multiplied (684438x2 and 228146x100)"
     ]
    }
   ],
   "source": [
    "# Fails! \n",
    "emb @ W1 + b1"
   ]
  },
  {
   "cell_type": "markdown",
   "id": "aec91967",
   "metadata": {},
   "source": [
    "Note that we need to re-shape the input!"
   ]
  },
  {
   "cell_type": "code",
   "execution_count": 27,
   "id": "6ef3e83b",
   "metadata": {},
   "outputs": [
    {
     "data": {
      "text/plain": [
       "torch.Size([228146, 6])"
      ]
     },
     "execution_count": 27,
     "metadata": {},
     "output_type": "execute_result"
    }
   ],
   "source": [
    "# Embedding for all first, second, third chars concat\n",
    "# Does not generalize if we have more than 3 words\n",
    "torch.cat([emb[:, 0, :],emb[:, 1, :],emb[:, 2, :]],axis=1).shape"
   ]
  },
  {
   "cell_type": "code",
   "execution_count": 28,
   "id": "68db5705",
   "metadata": {},
   "outputs": [
    {
     "data": {
      "text/plain": [
       "torch.Size([228146, 6])"
      ]
     },
     "execution_count": 28,
     "metadata": {},
     "output_type": "execute_result"
    }
   ],
   "source": [
    "# So we can drop a tensor dim \n",
    "torch.cat(torch.unbind(emb,1),1).shape"
   ]
  },
  {
   "cell_type": "markdown",
   "id": "432c1e86",
   "metadata": {},
   "source": [
    "Tensors are always 1D vector in computer memory.\n",
    "\n",
    "See this blog post: http://blog.ezyang.com/2019/05/pytorch-internals/"
   ]
  },
  {
   "cell_type": "code",
   "execution_count": 29,
   "id": "f93cf49e",
   "metadata": {},
   "outputs": [
    {
     "data": {
      "text/plain": [
       " 0\n",
       " 1\n",
       " 2\n",
       " 3\n",
       " 4\n",
       " 5\n",
       " 6\n",
       " 7\n",
       " 8\n",
       " 9\n",
       " 10\n",
       " 11\n",
       " 12\n",
       " 13\n",
       " 14\n",
       " 15\n",
       " 16\n",
       " 17\n",
       "[torch.storage._TypedStorage(dtype=torch.int64, device=cpu) of size 18]"
      ]
     },
     "execution_count": 29,
     "metadata": {},
     "output_type": "execute_result"
    }
   ],
   "source": [
    "a = torch.arange(18)\n",
    "a.storage()"
   ]
  },
  {
   "cell_type": "markdown",
   "id": "905779bf",
   "metadata": {},
   "source": [
    "We can use `.view` to reshape the 1D sequence!\n",
    "\n",
    "Using `-1` will infer the size of the dim.\n",
    "\n",
    "We can use this to perform our origional matrix multiplication.\n",
    " \n",
    "This is efficient b/c it does not create a new Tensor, but `torch.cat(torch.unbind(emb,1),1)` does!"
   ]
  },
  {
   "cell_type": "code",
   "execution_count": 30,
   "id": "250be749",
   "metadata": {},
   "outputs": [
    {
     "data": {
      "text/plain": [
       "torch.Size([3, 6])"
      ]
     },
     "execution_count": 30,
     "metadata": {},
     "output_type": "execute_result"
    }
   ],
   "source": [
    "a.view(-1,6).shape"
   ]
  },
  {
   "cell_type": "markdown",
   "id": "8e2ea8e4",
   "metadata": {},
   "source": [
    "Now, let's create the neural network."
   ]
  },
  {
   "cell_type": "code",
   "execution_count": 31,
   "id": "afe6876e",
   "metadata": {},
   "outputs": [
    {
     "data": {
      "text/plain": [
       "(torch.Size([228146, 3]), torch.Size([228146]))"
      ]
     },
     "execution_count": 31,
     "metadata": {},
     "output_type": "execute_result"
    }
   ],
   "source": [
    "# Dataset\n",
    "X.shape, Y.shape"
   ]
  },
  {
   "cell_type": "code",
   "execution_count": 205,
   "id": "76b7cbe6",
   "metadata": {},
   "outputs": [
    {
     "name": "stdout",
     "output_type": "stream",
     "text": [
      "torch.Size([182572, 3]) torch.Size([182572])\n",
      "torch.Size([22740, 3]) torch.Size([22740])\n",
      "torch.Size([22826, 3]) torch.Size([22826])\n"
     ]
    }
   ],
   "source": [
    "# Splits\n",
    "import random \n",
    "random.seed(42)\n",
    "n1=int(0.8*len(words))\n",
    "n2=int(0.9*len(words))\n",
    "Xtr,Ytr=build_dataset(words[1:n1])\n",
    "Xdev,Ydev=build_dataset(words[n1:n2])\n",
    "Xte,Yte=build_dataset(words[n2:])"
   ]
  },
  {
   "cell_type": "code",
   "execution_count": 32,
   "id": "1e0c77aa",
   "metadata": {},
   "outputs": [
    {
     "data": {
      "text/plain": [
       "11897"
      ]
     },
     "execution_count": 32,
     "metadata": {},
     "output_type": "execute_result"
    }
   ],
   "source": [
    "# Initialize the model\n",
    "g = torch.Generator().manual_seed(2147483647)  \n",
    "# Embedding matrix \n",
    "# embedding_size=2\n",
    "embedding_size=10\n",
    "C = torch.randn((27,embedding_size),generator=g)\n",
    "# Weights\n",
    "hidden_in=3*embedding_size\n",
    "W1 = torch.randn((hidden_in,200),generator=g)\n",
    "b1 = torch.randn(200,generator=g)\n",
    "W2 = torch.randn((200,27),generator=g)\n",
    "b2 = torch.randn(27,generator=g)\n",
    "parameters = [C,W1,b1,W2,b2]\n",
    "for p in parameters:\n",
    "    p.requires_grad = True\n",
    "sum(p.nelement() for p in parameters)"
   ]
  },
  {
   "cell_type": "markdown",
   "id": "5a74f0e6",
   "metadata": {},
   "source": [
    "A few tricks -\n",
    "\n",
    "1/ Let's process `mini-batches` of data, specified by: \n",
    "\n",
    "`ix = torch.randint(0,X.shape[0],(32,))`\n",
    "\n",
    "With minibatch, the gradient quality is lower.\n",
    "\n",
    "But, better to have an `approximate gradient and take many steps` ...\n",
    "\n",
    "... than an `exact gradient and take fewer steps`!\n",
    "\n",
    "2/ `Learning rate`\n",
    "\n",
    "See below.\n",
    "\n",
    "3/ `Size`\n",
    " \n",
    "e.g., Bump from `100` to `300` channels."
   ]
  },
  {
   "cell_type": "code",
   "execution_count": 207,
   "id": "c2f1b7ad",
   "metadata": {},
   "outputs": [],
   "source": [
    "# Candidate learning rates\n",
    "lre = torch.linspace(-3,0,1000)\n",
    "# Start very low, and grow to 1\n",
    "lrs = 10**lre"
   ]
  },
  {
   "cell_type": "code",
   "execution_count": 212,
   "id": "5c218ffa",
   "metadata": {},
   "outputs": [],
   "source": [
    "# Use train\n",
    "X = Xtr\n",
    "Y = Ytr\n",
    "\n",
    "# Store\n",
    "lri=[]\n",
    "lossi=[]\n",
    "stepi=[]"
   ]
  },
  {
   "cell_type": "code",
   "execution_count": 213,
   "id": "911cf482",
   "metadata": {},
   "outputs": [
    {
     "name": "stdout",
     "output_type": "stream",
     "text": [
      "2.105215549468994\n",
      "2.1685287952423096\n",
      "2.304079294204712\n"
     ]
    }
   ],
   "source": [
    "# Decay LR\n",
    "lr_decay=[0.1,0.05,0.01]\n",
    "for lr in lr_decay:\n",
    "\n",
    "    # Iterate through batches \n",
    "    for i in range(50000):\n",
    "\n",
    "        # Minibatch\n",
    "        ix = torch.randint(0,X.shape[0],(32,))\n",
    "\n",
    "        # Embed each element in input\n",
    "        # X is 228146, 3\n",
    "        # C on each element in X embeds to 2d\n",
    "        emb=C[X[ix]] # [32, 3, 2]\n",
    "\n",
    "        # Neural network \n",
    "        # Re-shape embedding to 6 \n",
    "        h = torch.tanh(emb.view(-1,hidden_in) @ W1 + b1)\n",
    "        logits = h @ W2 + b2\n",
    "\n",
    "        # Manual loss \n",
    "        counts = logits.exp()\n",
    "        prob = counts / counts.sum(1, keepdims=True)\n",
    "        num_chars = prob.shape[0]\n",
    "        loss=-prob[torch.arange(num_chars),Y[ix]].log().mean()\n",
    "\n",
    "        # Loss \n",
    "        # Smarter b/c PyT will not create all these intermediate tensors\n",
    "        # Forward pass:  \n",
    "        # Backward pass: Simpler to implement  \n",
    "        loss_=F.cross_entropy(logits,Y[ix])\n",
    "\n",
    "        # Backprop\n",
    "        for p in parameters:\n",
    "            p.grad = None\n",
    "        loss_.backward()\n",
    "\n",
    "        # LR\n",
    "        # lr=0.1\n",
    "        # lr=lrs[i]\n",
    "        # lri.append(lre[i])\n",
    "        # Plot log(loss) to squash the hockey stick loss curve\n",
    "        lossi.append(loss_.log10().item())\n",
    "        stepi.append(i)\n",
    "\n",
    "        # Update\n",
    "        for p in parameters:\n",
    "            p.data += -lr*p.grad \n",
    "\n",
    "    print(loss_.item())"
   ]
  },
  {
   "cell_type": "markdown",
   "id": "840faf26",
   "metadata": {},
   "source": [
    "`Loss curve` - \n",
    "* Noise b/c we are optimizing mini-batches.\n",
    "* If batch size is too low, the gradient is too inaccurate.\n",
    "* Increace the batch size to obtain a high quality gradient."
   ]
  },
  {
   "cell_type": "code",
   "execution_count": 214,
   "id": "b5692c2c",
   "metadata": {},
   "outputs": [
    {
     "data": {
      "text/plain": [
       "[<matplotlib.lines.Line2D at 0x16431e9a0>]"
      ]
     },
     "execution_count": 214,
     "metadata": {},
     "output_type": "execute_result"
    },
    {
     "data": {
      "image/png": "[encoded data removed]",
      "text/plain": [
       "<Figure size 640x480 with 1 Axes>"
      ]
     },
     "metadata": {},
     "output_type": "display_data"
    }
   ],
   "source": [
    "plt.plot(stepi,lossi)"
   ]
  },
  {
   "cell_type": "markdown",
   "id": "5b04c09d",
   "metadata": {},
   "source": [
    "Pick the best `learning rate` - \n",
    "\n",
    "* Around `0.1` is good to start\n",
    "* Then, we model improves w/ successive rounds of training ...\n",
    "* ... reduce LR further to `0.05` and `0.01`"
   ]
  },
  {
   "cell_type": "code",
   "execution_count": 154,
   "id": "18a8a016",
   "metadata": {},
   "outputs": [
    {
     "data": {
      "text/plain": [
       "[<matplotlib.lines.Line2D at 0x163778fd0>]"
      ]
     },
     "execution_count": 154,
     "metadata": {},
     "output_type": "execute_result"
    },
    {
     "data": {
      "image/png": "[encoded data removed]",
      "text/plain": [
       "<Figure size 640x480 with 1 Axes>"
      ]
     },
     "metadata": {},
     "output_type": "display_data"
    }
   ],
   "source": [
    "plt.plot(lri,lossi)"
   ]
  },
  {
   "cell_type": "markdown",
   "id": "fe67af3d",
   "metadata": {},
   "source": [
    "Similar loss btwn `dev` and `train`, so model is not overfitting!\n",
    "\n",
    "Dev and test loss get better after we reduce `LR` and increace the channel count."
   ]
  },
  {
   "cell_type": "code",
   "execution_count": 216,
   "id": "5b717337",
   "metadata": {},
   "outputs": [
    {
     "data": {
      "text/plain": [
       "tensor(2.1440, grad_fn=<NllLossBackward0>)"
      ]
     },
     "execution_count": 216,
     "metadata": {},
     "output_type": "execute_result"
    }
   ],
   "source": [
    "# Train loss\n",
    "emb = C[Xtr]\n",
    "h = torch.tanh(emb.view(-1,hidden_in) @ W1 + b1)\n",
    "logits = h @ W2 + b2\n",
    "loss_tr=F.cross_entropy(logits,Ytr)\n",
    "loss_tr"
   ]
  },
  {
   "cell_type": "code",
   "execution_count": 217,
   "id": "339a7e30",
   "metadata": {},
   "outputs": [
    {
     "data": {
      "text/plain": [
       "tensor(2.1901, grad_fn=<NllLossBackward0>)"
      ]
     },
     "execution_count": 217,
     "metadata": {},
     "output_type": "execute_result"
    }
   ],
   "source": [
    "# Dev loss\n",
    "emb = C[Xdev]\n",
    "h = torch.tanh(emb.view(-1,hidden_in) @ W1 + b1)\n",
    "logits = h @ W2 + b2\n",
    "loss_dev=F.cross_entropy(logits,Ydev)\n",
    "loss_dev"
   ]
  },
  {
   "cell_type": "markdown",
   "id": "860680a7",
   "metadata": {},
   "source": [
    "We suspect under-fitting - \n",
    "\n",
    "* We made channels larger, but did not see improvement in loss / dev or test error.\n",
    "\n",
    "Visualize embeddings to see if this is sane - \n",
    "\n",
    "* Some structure to the embeddings. \n",
    "* X and Y coord as embedding location. \n",
    "* Seperate and cluster chars: vowels cluster. Similar embedding for each. `Interchangable`."
   ]
  },
  {
   "cell_type": "code",
   "execution_count": 196,
   "id": "c1f09598",
   "metadata": {},
   "outputs": [
    {
     "data": {
      "image/png": "[encoded data removed]",
      "text/plain": [
       "<Figure size 800x800 with 1 Axes>"
      ]
     },
     "metadata": {},
     "output_type": "display_data"
    }
   ],
   "source": [
    "# visualize dimensions 0 and 1 of the embedding matrix C for all characters\n",
    "plt.figure(figsize=(8,8))\n",
    "plt.scatter(C[:,0].data, C[:,1].data, s=200)\n",
    "for i in range(C.shape[0]):\n",
    "    plt.text(C[i,0].item(), C[i,1].item(), itos[i], ha=\"center\", va=\"center\", color='white')\n",
    "plt.grid('minor')"
   ]
  },
  {
   "cell_type": "markdown",
   "id": "025d15a2",
   "metadata": {},
   "source": [
    "Ways to improve - \n",
    " \n",
    "* `Lookup`: More chars as context\n",
    "* `Model capacity`: Embedding and channels \n",
    "* `Length of running`: Total steps\n",
    "* `Batch size`: Better gradient (faster convergence)\n",
    "* `LR schedule`: Tune step sizes (lower) as model gets better "
   ]
  },
  {
   "cell_type": "markdown",
   "id": "86554535",
   "metadata": {},
   "source": [
    "One thing to watch:\n",
    "    \n",
    "We can get `inf` if we run out of dynamic range in floating point numbers.\n",
    "\n",
    "`e^100` is outside the dynamtic range of FP, so we get `int`.\n",
    "\n",
    "Any offset to logits will produce the same value due to normalization.\n",
    "\n",
    "So, under the hood Pytorch finds the maximum `logit` value and subtracts it."
   ]
  },
  {
   "cell_type": "code",
   "execution_count": 103,
   "id": "eeb48260",
   "metadata": {},
   "outputs": [
    {
     "data": {
      "text/plain": [
       "tensor([0., 0., 0., nan])"
      ]
     },
     "execution_count": 103,
     "metadata": {},
     "output_type": "execute_result"
    }
   ],
   "source": [
    "logits = torch.tensor([-100,-3,0,100])\n",
    "counts = logits.exp()\n",
    "probs = counts / counts.sum()\n",
    "probs"
   ]
  }
 ],
 "metadata": {
  "kernelspec": {
   "display_name": "Python 3",
   "language": "python",
   "name": "python3"
  },
  "language_info": {
   "name": "python",
   "version": "3.9.7 (default, Oct 13 2021, 06:45:31) \n[Clang 13.0.0 (clang-1300.0.29.3)]"
  },
  "vscode": {
   "interpreter": {
    "hash": "aee8b7b246df8f9039afb4144a1f6fd8d2ca17a180786b69acc140d282b71a49"
   }
  }
 },
 "nbformat": 4,
 "nbformat_minor": 5
}
