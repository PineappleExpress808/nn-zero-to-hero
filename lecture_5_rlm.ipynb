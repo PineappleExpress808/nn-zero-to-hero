{
 "cells": [
  {
   "cell_type": "code",
   "execution_count": null,
   "id": "63317fd7",
   "metadata": {},
   "outputs": [
    {
     "ename": "",
     "evalue": "",
     "output_type": "error",
     "traceback": [
      "\u001b[1;31mFailed to start the Kernel. \n",
      "\u001b[1;31mJupyter server crashed. Unable to connect. \n",
      "\u001b[1;31mError code from Jupyter: 1\n",
      "\u001b[1;31musage: jupyter.py [-h] [--version] [--config-dir] [--data-dir] [--runtime-dir]\n",
      "\u001b[1;31m                  [--paths] [--json] [--debug]\n",
      "\u001b[1;31m                  [subcommand]\n",
      "\u001b[1;31m\n",
      "\u001b[1;31mJupyter: Interactive Computing\n",
      "\u001b[1;31m\n",
      "\u001b[1;31mpositional arguments:\n",
      "\u001b[1;31m  subcommand     the subcommand to launch\n",
      "\u001b[1;31m\n",
      "\u001b[1;31moptional arguments:\n",
      "\u001b[1;31m  -h, --help     show this help message and exit\n",
      "\u001b[1;31m  --version      show the versions of core jupyter packages and exit\n",
      "\u001b[1;31m  --config-dir   show Jupyter config dir\n",
      "\u001b[1;31m  --data-dir     show Jupyter data dir\n",
      "\u001b[1;31m  --runtime-dir  show Jupyter runtime dir\n",
      "\u001b[1;31m  --paths        show all Jupyter paths. Add --json for machine-readable\n",
      "\u001b[1;31m                 format.\n",
      "\u001b[1;31m  --json         output paths as machine-readable json\n",
      "\u001b[1;31m  --debug        output debug information about paths\n",
      "\u001b[1;31m\n",
      "\u001b[1;31mAvailable subcommands:\n",
      "\u001b[1;31m\n",
      "\u001b[1;31mJupyter command `jupyter-notebook` not found. \n",
      "\u001b[1;31mView Jupyter <a href='command:jupyter.viewOutput'>log</a> for further details."
     ]
    }
   ],
   "source": [
    "import torch\n",
    "import random\n",
    "import torch.nn.functional as F\n",
    "import matplotlib.pyplot as plt # for making figures\n",
    "%matplotlib inline"
   ]
  },
  {
   "cell_type": "markdown",
   "id": "31f8cc05",
   "metadata": {},
   "source": [
    "Pytorch will use Autograd engine for backprop.\n",
    " \n",
    "But, `loss.backward()` abstracts a lot of things!"
   ]
  },
  {
   "cell_type": "code",
   "execution_count": 14,
   "id": "f3882e74",
   "metadata": {},
   "outputs": [
    {
     "name": "stdout",
     "output_type": "stream",
     "text": [
      "32033\n",
      "15\n",
      "['emma', 'olivia', 'ava', 'isabella', 'sophia', 'charlotte', 'mia', 'amelia']\n"
     ]
    }
   ],
   "source": [
    "# read in all the words\n",
    "words = open('names.txt', 'r').read().splitlines()\n",
    "print(len(words))\n",
    "print(max(len(w) for w in words))\n",
    "print(words[:8])"
   ]
  },
  {
   "cell_type": "code",
   "execution_count": 15,
   "id": "8fb5835d",
   "metadata": {},
   "outputs": [
    {
     "name": "stdout",
     "output_type": "stream",
     "text": [
      "{1: 'a', 2: 'b', 3: 'c', 4: 'd', 5: 'e', 6: 'f', 7: 'g', 8: 'h', 9: 'i', 10: 'j', 11: 'k', 12: 'l', 13: 'm', 14: 'n', 15: 'o', 16: 'p', 17: 'q', 18: 'r', 19: 's', 20: 't', 21: 'u', 22: 'v', 23: 'w', 24: 'x', 25: 'y', 26: 'z', 0: '.'}\n",
      "27\n"
     ]
    }
   ],
   "source": [
    "# build the vocabulary of characters and mappings to/from integers\n",
    "chars = sorted(list(set(''.join(words))))\n",
    "stoi = {s:i+1 for i,s in enumerate(chars)}\n",
    "stoi['.'] = 0\n",
    "itos = {i:s for s,i in stoi.items()}\n",
    "vocab_size = len(itos)\n",
    "print(itos)\n",
    "print(vocab_size)"
   ]
  },
  {
   "cell_type": "code",
   "execution_count": 16,
   "id": "95d8dfa8",
   "metadata": {},
   "outputs": [
    {
     "name": "stdout",
     "output_type": "stream",
     "text": [
      "torch.Size([182625, 3]) torch.Size([182625])\n",
      "torch.Size([22655, 3]) torch.Size([22655])\n",
      "torch.Size([22866, 3]) torch.Size([22866])\n"
     ]
    }
   ],
   "source": [
    "# build the dataset\n",
    "block_size = 3 # context length: how many characters do we take to predict the next one?\n",
    "\n",
    "def build_dataset(words):  \n",
    "  X, Y = [], []\n",
    "  \n",
    "  for w in words:\n",
    "    context = [0] * block_size\n",
    "    for ch in w + '.':\n",
    "      ix = stoi[ch]\n",
    "      X.append(context)\n",
    "      Y.append(ix)\n",
    "      context = context[1:] + [ix] # crop and append\n",
    "\n",
    "  X = torch.tensor(X)\n",
    "  Y = torch.tensor(Y)\n",
    "  print(X.shape, Y.shape)\n",
    "  return X, Y\n",
    "\n",
    "import random\n",
    "random.seed(42)\n",
    "random.shuffle(words)\n",
    "n1 = int(0.8*len(words))\n",
    "n2 = int(0.9*len(words))\n",
    "\n",
    "Xtr,  Ytr  = build_dataset(words[:n1])     # 80%\n",
    "Xdev, Ydev = build_dataset(words[n1:n2])   # 10%\n",
    "Xte,  Yte  = build_dataset(words[n2:])     # 10%"
   ]
  },
  {
   "cell_type": "markdown",
   "id": "d2953a54",
   "metadata": {},
   "source": [
    "Function we will to compare manual and Pytorch gradients. "
   ]
  },
  {
   "cell_type": "code",
   "execution_count": 18,
   "id": "0d6bfdd3",
   "metadata": {},
   "outputs": [],
   "source": [
    "def cmp(s, dt, t):\n",
    "  ex = torch.all(dt == t.grad).item()\n",
    "  app = torch.allclose(dt, t.grad)\n",
    "  maxdiff = (dt - t.grad).abs().max().item()\n",
    "  print(f'{s:15s} | exact: {str(ex):5s} | approximate: {str(app):5s} | maxdiff: {maxdiff}')"
   ]
  },
  {
   "cell_type": "markdown",
   "id": "b245a8a3",
   "metadata": {},
   "source": [
    "Model - \n",
    "\n",
    "* `MLP`\n",
    "* Normalize weights by squrt of `fan_in` \n",
    "* Do this for a few reasons:\n",
    "\n",
    "1/ Loss will blow up if logits go to `extreme` values -\n",
    "* Model spends the first few thousand iterations squashing weights to reasonable values\n",
    " \n",
    "`2/ Vanishing gradient -` \n",
    "* Large activations are squared when passed through tanh\n",
    "* The derivative of `tanh` `self.grad += (1 - t**2) * out.grad`\n",
    "* So if `tanh` is 1 or -1, then the gradient vanishes b/c we multiply by zero "
   ]
  },
  {
   "cell_type": "code",
   "execution_count": 26,
   "id": "fd2f4f39",
   "metadata": {},
   "outputs": [],
   "source": [
    "n_embed = 10 # char embedding\n",
    "n_hidden = 64 # neurons in hidden layer\n",
    "g = torch.Generator().manual_seed(2147483647)\n",
    "C = torch.randn((vocab_size,n_embd),generator=g)\n",
    "hidden_in=block_size*n_embed\n",
    "\n",
    "# Layer 1: \n",
    "W1 = torch.randn((hidden_in,n_hidden),generator=g) * (5/3)/(hidden_in**0.5)\n",
    "b1 = torch.randn(n_hidden,generator=g) * 0.01\n",
    "\n",
    "# Layer 2: \n",
    "W2 = torch.randn((n_hidden,vocab_size),generator=g) * 0.1\n",
    "b2 = torch.randn(vocab_size,generator=g) * 0.1\n",
    "\n",
    "# BN params\n",
    "bngain=torch.ones(1,n_hidden) * 0.1 + 1\n",
    "bnbias=torch.zeros(1,n_hidden) * 0.1\n",
    "\n",
    "# Params\n",
    "parameters = [C,W1,b1,W2,b2,bn_gain,bn_bias]\n",
    "for p in parameters:\n",
    "    p.requires_grad = True\n",
    "    \n",
    "# Batch \n",
    "batch_size = 32\n",
    "n = batch_size\n",
    "ix = torch.randint(0,Xtr.shape[0],(batch_size,),generator=g)\n",
    "Xb, Yb = Xtr[ix], Ytr[ix] "
   ]
  },
  {
   "cell_type": "markdown",
   "id": "5874ac2c",
   "metadata": {},
   "source": [
    "Forward and backward pass -\n",
    "\n",
    "* Explicit implementation of loss function (unbundle `F.cross_entropy()`)"
   ]
  },
  {
   "cell_type": "code",
   "execution_count": 27,
   "id": "0f8b7867",
   "metadata": {},
   "outputs": [],
   "source": [
    "# Embed the chars into vectors\n",
    "emb=C[Xb] \n",
    "\n",
    "# Concat\n",
    "embcat=emb.view(emb.shape[0],-1)\n",
    "\n",
    "# Linear layer 1\n",
    "hprebn=embcat @ W1 + b1\n",
    "\n",
    "# Batch norm to make it Gaussian \n",
    "bnmeani=1/n*hprebn.sum(0,keepdim=True)\n",
    "bndiff=hprebn - bnmeani\n",
    "bndiff2=bndiff**2\n",
    "bnvar=1/(n-1)*bndiff2.sum(0,keepdim=True) # Bessel's correction: Div by n-1\n",
    "bnvar_inv=(bnvar+1e-5)**-0.5\n",
    "bnraw=bndiff*bnvar_inv\n",
    "\n",
    "# Activation\n",
    "hpreact=bngain*bnraw+bnbias\n",
    "\n",
    "# Non-linrarity\n",
    "h=torch.tanh(hpreact)\n",
    "\n",
    "# Linear layer 2\n",
    "logits = h @ W2 + b2\n",
    "\n",
    "# Cross entropy loss (same as F.cross_entropy())\n",
    "logit_maxes=logits.max(1,keepdim=True).values\n",
    "norm_logits=logits-logit_maxes # Subtract max for numerical stabilitiy\n",
    "counts=norm_logits.exp()\n",
    "counts_sum=counts.sum(1,keepdims=True)\n",
    "counts_sum_inv=counts_sum**-1\n",
    "probs=counts*counts_sum_inv\n",
    "logprobs=probs.log()\n",
    "loss=-logprobs[range(n),Yb].mean()\n",
    "\n",
    "# Set grad to 0\n",
    "for p in parameters: \n",
    "    p.grad = None\n",
    "    \n",
    "# Retain grad of all these intermediate tensors\n",
    "for t in [logprobs, probs, counts, counts_sum, counts_sum_inv, \n",
    "          norm_logits, logit_maxes, logits, h, hpreact, bnraw,\n",
    "         bnvar_inv, bnvar, bndiff2, bndiff, hprebn, bnmeani,\n",
    "         embcat, emb]:\n",
    "    t.retain_grad()\n",
    "\n",
    "# Backward\n",
    "loss.backward()\n",
    "loss "
   ]
  },
  {
   "cell_type": "code",
   "execution_count": 28,
   "id": "0a852b02",
   "metadata": {},
   "outputs": [
    {
     "data": {
      "text/plain": [
       "tensor([ 8, 14, 15, 22,  0, 19,  9, 14,  5,  1, 20,  3,  8, 14, 12,  0, 11,  0,\n",
       "        26,  9, 25,  0,  1,  1,  7, 18,  9,  3,  5,  9,  0, 18])"
      ]
     },
     "execution_count": 28,
     "metadata": {},
     "output_type": "execute_result"
    }
   ],
   "source": [
    "Yb"
   ]
  },
  {
   "cell_type": "code",
   "execution_count": null,
   "id": "0fad5dee",
   "metadata": {},
   "outputs": [],
   "source": []
  }
 ],
 "metadata": {
  "kernelspec": {
   "display_name": "Python 3",
   "language": "python",
   "name": "python3"
  },
  "language_info": {
   "codemirror_mode": {
    "name": "ipython",
    "version": 3
   },
   "file_extension": ".py",
   "mimetype": "text/x-python",
   "name": "python",
   "nbconvert_exporter": "python",
   "pygments_lexer": "ipython3",
   "version": "3.9.7 (default, Oct 13 2021, 06:45:31) \n[Clang 13.0.0 (clang-1300.0.29.3)]"
  },
  "vscode": {
   "interpreter": {
    "hash": "aee8b7b246df8f9039afb4144a1f6fd8d2ca17a180786b69acc140d282b71a49"
   }
  }
 },
 "nbformat": 4,
 "nbformat_minor": 5
}
